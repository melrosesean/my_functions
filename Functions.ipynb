{
  "nbformat": 4,
  "nbformat_minor": 0,
  "metadata": {
    "colab": {
      "provenance": [],
      "authorship_tag": "ABX9TyMn1UGqwguFT9CzWTIcHbji",
      "include_colab_link": true
    },
    "kernelspec": {
      "name": "python3",
      "display_name": "Python 3"
    },
    "language_info": {
      "name": "python"
    }
  },
  "cells": [
    {
      "cell_type": "markdown",
      "metadata": {
        "id": "view-in-github",
        "colab_type": "text"
      },
      "source": [
        "<a href=\"https://colab.research.google.com/github/melrosesean/my_functions/blob/main/Functions.ipynb\" target=\"_parent\"><img src=\"https://colab.research.google.com/assets/colab-badge.svg\" alt=\"Open In Colab\"/></a>"
      ]
    },
    {
      "cell_type": "code",
      "execution_count": null,
      "metadata": {
        "id": "gbC-Tdj4cy0H"
      },
      "outputs": [],
      "source": [
        "#https://github.com/melrosesean/my_functions.git"
      ]
    },
    {
      "cell_type": "code",
      "source": [
        "# prompt: add on to 10 and print\n",
        "\n",
        "def add_ten(number):\n",
        "  \"\"\"Adds 10 to a given number.\n",
        "  \"\"\"\n",
        "  return number + 10\n",
        "\n",
        "# Example usage\n",
        "result = add_ten(5)  # Replace 5 with the desired number\n",
        "result"
      ],
      "metadata": {
        "id": "AlOZPBO5q2xv"
      },
      "execution_count": null,
      "outputs": []
    },
    {
      "cell_type": "markdown",
      "source": [
        "# This is an inline math example: $E = mc^2$\n",
        "\n",
        "## Block Math Example:\n",
        "$$\n",
        "\\int_a^b f(x) \\, dx = F(b) - F(a)\n",
        "$$\n",
        "\n"
      ],
      "metadata": {
        "id": "wiDwE-KNrEqS"
      }
    }
  ]
}